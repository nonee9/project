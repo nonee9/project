{
 "cells": [
  {
   "cell_type": "code",
   "execution_count": 104,
   "metadata": {},
   "outputs": [],
   "source": [
    "import yfinance as yf"
   ]
  },
  {
   "cell_type": "code",
   "execution_count": 106,
   "metadata": {},
   "outputs": [
    {
     "name": "stdout",
     "output_type": "stream",
     "text": [
      "^C\n"
     ]
    }
   ],
   "source": [
    "!pip install yfinance"
   ]
  },
  {
   "cell_type": "code",
   "execution_count": 107,
   "metadata": {},
   "outputs": [],
   "source": [
    "import yfinance as yf"
   ]
  },
  {
   "cell_type": "code",
   "execution_count": 108,
   "metadata": {},
   "outputs": [],
   "source": [
    "sp500 = yf.Ticker(\"^GSPC\")"
   ]
  },
  {
   "cell_type": "code",
   "execution_count": 109,
   "metadata": {},
   "outputs": [],
   "source": [
    "sp500 = sp500.history(period = \"max\")"
   ]
  },
  {
   "cell_type": "code",
   "execution_count": 110,
   "metadata": {},
   "outputs": [
    {
     "data": {
      "text/html": [
       "<div>\n",
       "<style scoped>\n",
       "    .dataframe tbody tr th:only-of-type {\n",
       "        vertical-align: middle;\n",
       "    }\n",
       "\n",
       "    .dataframe tbody tr th {\n",
       "        vertical-align: top;\n",
       "    }\n",
       "\n",
       "    .dataframe thead th {\n",
       "        text-align: right;\n",
       "    }\n",
       "</style>\n",
       "<table border=\"1\" class=\"dataframe\">\n",
       "  <thead>\n",
       "    <tr style=\"text-align: right;\">\n",
       "      <th></th>\n",
       "      <th>Open</th>\n",
       "      <th>High</th>\n",
       "      <th>Low</th>\n",
       "      <th>Close</th>\n",
       "      <th>Volume</th>\n",
       "      <th>Dividends</th>\n",
       "      <th>Stock Splits</th>\n",
       "    </tr>\n",
       "    <tr>\n",
       "      <th>Date</th>\n",
       "      <th></th>\n",
       "      <th></th>\n",
       "      <th></th>\n",
       "      <th></th>\n",
       "      <th></th>\n",
       "      <th></th>\n",
       "      <th></th>\n",
       "    </tr>\n",
       "  </thead>\n",
       "  <tbody>\n",
       "    <tr>\n",
       "      <th>1927-12-30 00:00:00-05:00</th>\n",
       "      <td>17.660000</td>\n",
       "      <td>17.660000</td>\n",
       "      <td>17.660000</td>\n",
       "      <td>17.660000</td>\n",
       "      <td>0</td>\n",
       "      <td>0.0</td>\n",
       "      <td>0.0</td>\n",
       "    </tr>\n",
       "    <tr>\n",
       "      <th>1928-01-03 00:00:00-05:00</th>\n",
       "      <td>17.760000</td>\n",
       "      <td>17.760000</td>\n",
       "      <td>17.760000</td>\n",
       "      <td>17.760000</td>\n",
       "      <td>0</td>\n",
       "      <td>0.0</td>\n",
       "      <td>0.0</td>\n",
       "    </tr>\n",
       "    <tr>\n",
       "      <th>1928-01-04 00:00:00-05:00</th>\n",
       "      <td>17.719999</td>\n",
       "      <td>17.719999</td>\n",
       "      <td>17.719999</td>\n",
       "      <td>17.719999</td>\n",
       "      <td>0</td>\n",
       "      <td>0.0</td>\n",
       "      <td>0.0</td>\n",
       "    </tr>\n",
       "    <tr>\n",
       "      <th>1928-01-05 00:00:00-05:00</th>\n",
       "      <td>17.549999</td>\n",
       "      <td>17.549999</td>\n",
       "      <td>17.549999</td>\n",
       "      <td>17.549999</td>\n",
       "      <td>0</td>\n",
       "      <td>0.0</td>\n",
       "      <td>0.0</td>\n",
       "    </tr>\n",
       "    <tr>\n",
       "      <th>1928-01-06 00:00:00-05:00</th>\n",
       "      <td>17.660000</td>\n",
       "      <td>17.660000</td>\n",
       "      <td>17.660000</td>\n",
       "      <td>17.660000</td>\n",
       "      <td>0</td>\n",
       "      <td>0.0</td>\n",
       "      <td>0.0</td>\n",
       "    </tr>\n",
       "    <tr>\n",
       "      <th>...</th>\n",
       "      <td>...</td>\n",
       "      <td>...</td>\n",
       "      <td>...</td>\n",
       "      <td>...</td>\n",
       "      <td>...</td>\n",
       "      <td>...</td>\n",
       "      <td>...</td>\n",
       "    </tr>\n",
       "    <tr>\n",
       "      <th>2023-07-06 00:00:00-04:00</th>\n",
       "      <td>4422.620117</td>\n",
       "      <td>4422.620117</td>\n",
       "      <td>4385.049805</td>\n",
       "      <td>4411.589844</td>\n",
       "      <td>3682020000</td>\n",
       "      <td>0.0</td>\n",
       "      <td>0.0</td>\n",
       "    </tr>\n",
       "    <tr>\n",
       "      <th>2023-07-07 00:00:00-04:00</th>\n",
       "      <td>4404.540039</td>\n",
       "      <td>4440.390137</td>\n",
       "      <td>4397.399902</td>\n",
       "      <td>4398.950195</td>\n",
       "      <td>3630480000</td>\n",
       "      <td>0.0</td>\n",
       "      <td>0.0</td>\n",
       "    </tr>\n",
       "    <tr>\n",
       "      <th>2023-07-10 00:00:00-04:00</th>\n",
       "      <td>4394.229980</td>\n",
       "      <td>4412.600098</td>\n",
       "      <td>4389.919922</td>\n",
       "      <td>4409.529785</td>\n",
       "      <td>3429600000</td>\n",
       "      <td>0.0</td>\n",
       "      <td>0.0</td>\n",
       "    </tr>\n",
       "    <tr>\n",
       "      <th>2023-07-11 00:00:00-04:00</th>\n",
       "      <td>4415.549805</td>\n",
       "      <td>4443.640137</td>\n",
       "      <td>4408.459961</td>\n",
       "      <td>4439.259766</td>\n",
       "      <td>3624220000</td>\n",
       "      <td>0.0</td>\n",
       "      <td>0.0</td>\n",
       "    </tr>\n",
       "    <tr>\n",
       "      <th>2023-07-12 00:00:00-04:00</th>\n",
       "      <td>4467.689941</td>\n",
       "      <td>4488.339844</td>\n",
       "      <td>4463.229980</td>\n",
       "      <td>4472.160156</td>\n",
       "      <td>3920290000</td>\n",
       "      <td>0.0</td>\n",
       "      <td>0.0</td>\n",
       "    </tr>\n",
       "  </tbody>\n",
       "</table>\n",
       "<p>23996 rows × 7 columns</p>\n",
       "</div>"
      ],
      "text/plain": [
       "                                  Open         High          Low        Close  \\\n",
       "Date                                                                            \n",
       "1927-12-30 00:00:00-05:00    17.660000    17.660000    17.660000    17.660000   \n",
       "1928-01-03 00:00:00-05:00    17.760000    17.760000    17.760000    17.760000   \n",
       "1928-01-04 00:00:00-05:00    17.719999    17.719999    17.719999    17.719999   \n",
       "1928-01-05 00:00:00-05:00    17.549999    17.549999    17.549999    17.549999   \n",
       "1928-01-06 00:00:00-05:00    17.660000    17.660000    17.660000    17.660000   \n",
       "...                                ...          ...          ...          ...   \n",
       "2023-07-06 00:00:00-04:00  4422.620117  4422.620117  4385.049805  4411.589844   \n",
       "2023-07-07 00:00:00-04:00  4404.540039  4440.390137  4397.399902  4398.950195   \n",
       "2023-07-10 00:00:00-04:00  4394.229980  4412.600098  4389.919922  4409.529785   \n",
       "2023-07-11 00:00:00-04:00  4415.549805  4443.640137  4408.459961  4439.259766   \n",
       "2023-07-12 00:00:00-04:00  4467.689941  4488.339844  4463.229980  4472.160156   \n",
       "\n",
       "                               Volume  Dividends  Stock Splits  \n",
       "Date                                                            \n",
       "1927-12-30 00:00:00-05:00           0        0.0           0.0  \n",
       "1928-01-03 00:00:00-05:00           0        0.0           0.0  \n",
       "1928-01-04 00:00:00-05:00           0        0.0           0.0  \n",
       "1928-01-05 00:00:00-05:00           0        0.0           0.0  \n",
       "1928-01-06 00:00:00-05:00           0        0.0           0.0  \n",
       "...                               ...        ...           ...  \n",
       "2023-07-06 00:00:00-04:00  3682020000        0.0           0.0  \n",
       "2023-07-07 00:00:00-04:00  3630480000        0.0           0.0  \n",
       "2023-07-10 00:00:00-04:00  3429600000        0.0           0.0  \n",
       "2023-07-11 00:00:00-04:00  3624220000        0.0           0.0  \n",
       "2023-07-12 00:00:00-04:00  3920290000        0.0           0.0  \n",
       "\n",
       "[23996 rows x 7 columns]"
      ]
     },
     "execution_count": 110,
     "metadata": {},
     "output_type": "execute_result"
    }
   ],
   "source": [
    "sp500"
   ]
  },
  {
   "cell_type": "code",
   "execution_count": 111,
   "metadata": {},
   "outputs": [
    {
     "data": {
      "text/plain": [
       "<AxesSubplot:xlabel='Date'>"
      ]
     },
     "execution_count": 111,
     "metadata": {},
     "output_type": "execute_result"
    },
    {
     "data": {
      "image/png": "[encoded data removed]",
      "text/plain": [
       "<Figure size 640x480 with 1 Axes>"
      ]
     },
     "metadata": {},
     "output_type": "display_data"
    }
   ],
   "source": [
    "sp500.plot.line( y = 'Close', use_index = True)"
   ]
  },
  {
   "cell_type": "code",
   "execution_count": 112,
   "metadata": {},
   "outputs": [],
   "source": [
    "del sp500['Dividends']\n",
    "del sp500['Stock Splits']"
   ]
  },
  {
   "cell_type": "code",
   "execution_count": 113,
   "metadata": {},
   "outputs": [],
   "source": [
    "sp500['Tomorrow'] = sp500['Close'].shift(-1)"
   ]
  },
  {
   "cell_type": "code",
   "execution_count": 114,
   "metadata": {},
   "outputs": [
    {
     "data": {
      "text/html": [
       "<div>\n",
       "<style scoped>\n",
       "    .dataframe tbody tr th:only-of-type {\n",
       "        vertical-align: middle;\n",
       "    }\n",
       "\n",
       "    .dataframe tbody tr th {\n",
       "        vertical-align: top;\n",
       "    }\n",
       "\n",
       "    .dataframe thead th {\n",
       "        text-align: right;\n",
       "    }\n",
       "</style>\n",
       "<table border=\"1\" class=\"dataframe\">\n",
       "  <thead>\n",
       "    <tr style=\"text-align: right;\">\n",
       "      <th></th>\n",
       "      <th>Open</th>\n",
       "      <th>High</th>\n",
       "      <th>Low</th>\n",
       "      <th>Close</th>\n",
       "      <th>Volume</th>\n",
       "      <th>Tomorrow</th>\n",
       "    </tr>\n",
       "    <tr>\n",
       "      <th>Date</th>\n",
       "      <th></th>\n",
       "      <th></th>\n",
       "      <th></th>\n",
       "      <th></th>\n",
       "      <th></th>\n",
       "      <th></th>\n",
       "    </tr>\n",
       "  </thead>\n",
       "  <tbody>\n",
       "    <tr>\n",
       "      <th>1927-12-30 00:00:00-05:00</th>\n",
       "      <td>17.660000</td>\n",
       "      <td>17.660000</td>\n",
       "      <td>17.660000</td>\n",
       "      <td>17.660000</td>\n",
       "      <td>0</td>\n",
       "      <td>17.760000</td>\n",
       "    </tr>\n",
       "    <tr>\n",
       "      <th>1928-01-03 00:00:00-05:00</th>\n",
       "      <td>17.760000</td>\n",
       "      <td>17.760000</td>\n",
       "      <td>17.760000</td>\n",
       "      <td>17.760000</td>\n",
       "      <td>0</td>\n",
       "      <td>17.719999</td>\n",
       "    </tr>\n",
       "    <tr>\n",
       "      <th>1928-01-04 00:00:00-05:00</th>\n",
       "      <td>17.719999</td>\n",
       "      <td>17.719999</td>\n",
       "      <td>17.719999</td>\n",
       "      <td>17.719999</td>\n",
       "      <td>0</td>\n",
       "      <td>17.549999</td>\n",
       "    </tr>\n",
       "    <tr>\n",
       "      <th>1928-01-05 00:00:00-05:00</th>\n",
       "      <td>17.549999</td>\n",
       "      <td>17.549999</td>\n",
       "      <td>17.549999</td>\n",
       "      <td>17.549999</td>\n",
       "      <td>0</td>\n",
       "      <td>17.660000</td>\n",
       "    </tr>\n",
       "    <tr>\n",
       "      <th>1928-01-06 00:00:00-05:00</th>\n",
       "      <td>17.660000</td>\n",
       "      <td>17.660000</td>\n",
       "      <td>17.660000</td>\n",
       "      <td>17.660000</td>\n",
       "      <td>0</td>\n",
       "      <td>17.500000</td>\n",
       "    </tr>\n",
       "    <tr>\n",
       "      <th>...</th>\n",
       "      <td>...</td>\n",
       "      <td>...</td>\n",
       "      <td>...</td>\n",
       "      <td>...</td>\n",
       "      <td>...</td>\n",
       "      <td>...</td>\n",
       "    </tr>\n",
       "    <tr>\n",
       "      <th>2023-07-06 00:00:00-04:00</th>\n",
       "      <td>4422.620117</td>\n",
       "      <td>4422.620117</td>\n",
       "      <td>4385.049805</td>\n",
       "      <td>4411.589844</td>\n",
       "      <td>3682020000</td>\n",
       "      <td>4398.950195</td>\n",
       "    </tr>\n",
       "    <tr>\n",
       "      <th>2023-07-07 00:00:00-04:00</th>\n",
       "      <td>4404.540039</td>\n",
       "      <td>4440.390137</td>\n",
       "      <td>4397.399902</td>\n",
       "      <td>4398.950195</td>\n",
       "      <td>3630480000</td>\n",
       "      <td>4409.529785</td>\n",
       "    </tr>\n",
       "    <tr>\n",
       "      <th>2023-07-10 00:00:00-04:00</th>\n",
       "      <td>4394.229980</td>\n",
       "      <td>4412.600098</td>\n",
       "      <td>4389.919922</td>\n",
       "      <td>4409.529785</td>\n",
       "      <td>3429600000</td>\n",
       "      <td>4439.259766</td>\n",
       "    </tr>\n",
       "    <tr>\n",
       "      <th>2023-07-11 00:00:00-04:00</th>\n",
       "      <td>4415.549805</td>\n",
       "      <td>4443.640137</td>\n",
       "      <td>4408.459961</td>\n",
       "      <td>4439.259766</td>\n",
       "      <td>3624220000</td>\n",
       "      <td>4472.160156</td>\n",
       "    </tr>\n",
       "    <tr>\n",
       "      <th>2023-07-12 00:00:00-04:00</th>\n",
       "      <td>4467.689941</td>\n",
       "      <td>4488.339844</td>\n",
       "      <td>4463.229980</td>\n",
       "      <td>4472.160156</td>\n",
       "      <td>3920290000</td>\n",
       "      <td>NaN</td>\n",
       "    </tr>\n",
       "  </tbody>\n",
       "</table>\n",
       "<p>23996 rows × 6 columns</p>\n",
       "</div>"
      ],
      "text/plain": [
       "                                  Open         High          Low        Close  \\\n",
       "Date                                                                            \n",
       "1927-12-30 00:00:00-05:00    17.660000    17.660000    17.660000    17.660000   \n",
       "1928-01-03 00:00:00-05:00    17.760000    17.760000    17.760000    17.760000   \n",
       "1928-01-04 00:00:00-05:00    17.719999    17.719999    17.719999    17.719999   \n",
       "1928-01-05 00:00:00-05:00    17.549999    17.549999    17.549999    17.549999   \n",
       "1928-01-06 00:00:00-05:00    17.660000    17.660000    17.660000    17.660000   \n",
       "...                                ...          ...          ...          ...   \n",
       "2023-07-06 00:00:00-04:00  4422.620117  4422.620117  4385.049805  4411.589844   \n",
       "2023-07-07 00:00:00-04:00  4404.540039  4440.390137  4397.399902  4398.950195   \n",
       "2023-07-10 00:00:00-04:00  4394.229980  4412.600098  4389.919922  4409.529785   \n",
       "2023-07-11 00:00:00-04:00  4415.549805  4443.640137  4408.459961  4439.259766   \n",
       "2023-07-12 00:00:00-04:00  4467.689941  4488.339844  4463.229980  4472.160156   \n",
       "\n",
       "                               Volume     Tomorrow  \n",
       "Date                                                \n",
       "1927-12-30 00:00:00-05:00           0    17.760000  \n",
       "1928-01-03 00:00:00-05:00           0    17.719999  \n",
       "1928-01-04 00:00:00-05:00           0    17.549999  \n",
       "1928-01-05 00:00:00-05:00           0    17.660000  \n",
       "1928-01-06 00:00:00-05:00           0    17.500000  \n",
       "...                               ...          ...  \n",
       "2023-07-06 00:00:00-04:00  3682020000  4398.950195  \n",
       "2023-07-07 00:00:00-04:00  3630480000  4409.529785  \n",
       "2023-07-10 00:00:00-04:00  3429600000  4439.259766  \n",
       "2023-07-11 00:00:00-04:00  3624220000  4472.160156  \n",
       "2023-07-12 00:00:00-04:00  3920290000          NaN  \n",
       "\n",
       "[23996 rows x 6 columns]"
      ]
     },
     "execution_count": 114,
     "metadata": {},
     "output_type": "execute_result"
    }
   ],
   "source": [
    "sp500"
   ]
  },
  {
   "cell_type": "code",
   "execution_count": 115,
   "metadata": {},
   "outputs": [],
   "source": [
    "sp500['Target'] = (sp500['Tomorrow']> sp500['Close']).astype(int)"
   ]
  },
  {
   "cell_type": "code",
   "execution_count": 116,
   "metadata": {},
   "outputs": [
    {
     "data": {
      "text/html": [
       "<div>\n",
       "<style scoped>\n",
       "    .dataframe tbody tr th:only-of-type {\n",
       "        vertical-align: middle;\n",
       "    }\n",
       "\n",
       "    .dataframe tbody tr th {\n",
       "        vertical-align: top;\n",
       "    }\n",
       "\n",
       "    .dataframe thead th {\n",
       "        text-align: right;\n",
       "    }\n",
       "</style>\n",
       "<table border=\"1\" class=\"dataframe\">\n",
       "  <thead>\n",
       "    <tr style=\"text-align: right;\">\n",
       "      <th></th>\n",
       "      <th>Open</th>\n",
       "      <th>High</th>\n",
       "      <th>Low</th>\n",
       "      <th>Close</th>\n",
       "      <th>Volume</th>\n",
       "      <th>Tomorrow</th>\n",
       "      <th>Target</th>\n",
       "    </tr>\n",
       "    <tr>\n",
       "      <th>Date</th>\n",
       "      <th></th>\n",
       "      <th></th>\n",
       "      <th></th>\n",
       "      <th></th>\n",
       "      <th></th>\n",
       "      <th></th>\n",
       "      <th></th>\n",
       "    </tr>\n",
       "  </thead>\n",
       "  <tbody>\n",
       "    <tr>\n",
       "      <th>1927-12-30 00:00:00-05:00</th>\n",
       "      <td>17.660000</td>\n",
       "      <td>17.660000</td>\n",
       "      <td>17.660000</td>\n",
       "      <td>17.660000</td>\n",
       "      <td>0</td>\n",
       "      <td>17.760000</td>\n",
       "      <td>1</td>\n",
       "    </tr>\n",
       "    <tr>\n",
       "      <th>1928-01-03 00:00:00-05:00</th>\n",
       "      <td>17.760000</td>\n",
       "      <td>17.760000</td>\n",
       "      <td>17.760000</td>\n",
       "      <td>17.760000</td>\n",
       "      <td>0</td>\n",
       "      <td>17.719999</td>\n",
       "      <td>0</td>\n",
       "    </tr>\n",
       "    <tr>\n",
       "      <th>1928-01-04 00:00:00-05:00</th>\n",
       "      <td>17.719999</td>\n",
       "      <td>17.719999</td>\n",
       "      <td>17.719999</td>\n",
       "      <td>17.719999</td>\n",
       "      <td>0</td>\n",
       "      <td>17.549999</td>\n",
       "      <td>0</td>\n",
       "    </tr>\n",
       "    <tr>\n",
       "      <th>1928-01-05 00:00:00-05:00</th>\n",
       "      <td>17.549999</td>\n",
       "      <td>17.549999</td>\n",
       "      <td>17.549999</td>\n",
       "      <td>17.549999</td>\n",
       "      <td>0</td>\n",
       "      <td>17.660000</td>\n",
       "      <td>1</td>\n",
       "    </tr>\n",
       "    <tr>\n",
       "      <th>1928-01-06 00:00:00-05:00</th>\n",
       "      <td>17.660000</td>\n",
       "      <td>17.660000</td>\n",
       "      <td>17.660000</td>\n",
       "      <td>17.660000</td>\n",
       "      <td>0</td>\n",
       "      <td>17.500000</td>\n",
       "      <td>0</td>\n",
       "    </tr>\n",
       "    <tr>\n",
       "      <th>...</th>\n",
       "      <td>...</td>\n",
       "      <td>...</td>\n",
       "      <td>...</td>\n",
       "      <td>...</td>\n",
       "      <td>...</td>\n",
       "      <td>...</td>\n",
       "      <td>...</td>\n",
       "    </tr>\n",
       "    <tr>\n",
       "      <th>2023-07-06 00:00:00-04:00</th>\n",
       "      <td>4422.620117</td>\n",
       "      <td>4422.620117</td>\n",
       "      <td>4385.049805</td>\n",
       "      <td>4411.589844</td>\n",
       "      <td>3682020000</td>\n",
       "      <td>4398.950195</td>\n",
       "      <td>0</td>\n",
       "    </tr>\n",
       "    <tr>\n",
       "      <th>2023-07-07 00:00:00-04:00</th>\n",
       "      <td>4404.540039</td>\n",
       "      <td>4440.390137</td>\n",
       "      <td>4397.399902</td>\n",
       "      <td>4398.950195</td>\n",
       "      <td>3630480000</td>\n",
       "      <td>4409.529785</td>\n",
       "      <td>1</td>\n",
       "    </tr>\n",
       "    <tr>\n",
       "      <th>2023-07-10 00:00:00-04:00</th>\n",
       "      <td>4394.229980</td>\n",
       "      <td>4412.600098</td>\n",
       "      <td>4389.919922</td>\n",
       "      <td>4409.529785</td>\n",
       "      <td>3429600000</td>\n",
       "      <td>4439.259766</td>\n",
       "      <td>1</td>\n",
       "    </tr>\n",
       "    <tr>\n",
       "      <th>2023-07-11 00:00:00-04:00</th>\n",
       "      <td>4415.549805</td>\n",
       "      <td>4443.640137</td>\n",
       "      <td>4408.459961</td>\n",
       "      <td>4439.259766</td>\n",
       "      <td>3624220000</td>\n",
       "      <td>4472.160156</td>\n",
       "      <td>1</td>\n",
       "    </tr>\n",
       "    <tr>\n",
       "      <th>2023-07-12 00:00:00-04:00</th>\n",
       "      <td>4467.689941</td>\n",
       "      <td>4488.339844</td>\n",
       "      <td>4463.229980</td>\n",
       "      <td>4472.160156</td>\n",
       "      <td>3920290000</td>\n",
       "      <td>NaN</td>\n",
       "      <td>0</td>\n",
       "    </tr>\n",
       "  </tbody>\n",
       "</table>\n",
       "<p>23996 rows × 7 columns</p>\n",
       "</div>"
      ],
      "text/plain": [
       "                                  Open         High          Low        Close  \\\n",
       "Date                                                                            \n",
       "1927-12-30 00:00:00-05:00    17.660000    17.660000    17.660000    17.660000   \n",
       "1928-01-03 00:00:00-05:00    17.760000    17.760000    17.760000    17.760000   \n",
       "1928-01-04 00:00:00-05:00    17.719999    17.719999    17.719999    17.719999   \n",
       "1928-01-05 00:00:00-05:00    17.549999    17.549999    17.549999    17.549999   \n",
       "1928-01-06 00:00:00-05:00    17.660000    17.660000    17.660000    17.660000   \n",
       "...                                ...          ...          ...          ...   \n",
       "2023-07-06 00:00:00-04:00  4422.620117  4422.620117  4385.049805  4411.589844   \n",
       "2023-07-07 00:00:00-04:00  4404.540039  4440.390137  4397.399902  4398.950195   \n",
       "2023-07-10 00:00:00-04:00  4394.229980  4412.600098  4389.919922  4409.529785   \n",
       "2023-07-11 00:00:00-04:00  4415.549805  4443.640137  4408.459961  4439.259766   \n",
       "2023-07-12 00:00:00-04:00  4467.689941  4488.339844  4463.229980  4472.160156   \n",
       "\n",
       "                               Volume     Tomorrow  Target  \n",
       "Date                                                        \n",
       "1927-12-30 00:00:00-05:00           0    17.760000       1  \n",
       "1928-01-03 00:00:00-05:00           0    17.719999       0  \n",
       "1928-01-04 00:00:00-05:00           0    17.549999       0  \n",
       "1928-01-05 00:00:00-05:00           0    17.660000       1  \n",
       "1928-01-06 00:00:00-05:00           0    17.500000       0  \n",
       "...                               ...          ...     ...  \n",
       "2023-07-06 00:00:00-04:00  3682020000  4398.950195       0  \n",
       "2023-07-07 00:00:00-04:00  3630480000  4409.529785       1  \n",
       "2023-07-10 00:00:00-04:00  3429600000  4439.259766       1  \n",
       "2023-07-11 00:00:00-04:00  3624220000  4472.160156       1  \n",
       "2023-07-12 00:00:00-04:00  3920290000          NaN       0  \n",
       "\n",
       "[23996 rows x 7 columns]"
      ]
     },
     "execution_count": 116,
     "metadata": {},
     "output_type": "execute_result"
    }
   ],
   "source": [
    "sp500"
   ]
  },
  {
   "cell_type": "code",
   "execution_count": 117,
   "metadata": {},
   "outputs": [],
   "source": [
    "sp500 = sp500.loc[\"1999 -01-01\":].copy(\n",
    "\n",
    ")"
   ]
  },
  {
   "cell_type": "code",
   "execution_count": 118,
   "metadata": {},
   "outputs": [
    {
     "data": {
      "text/html": [
       "<div>\n",
       "<style scoped>\n",
       "    .dataframe tbody tr th:only-of-type {\n",
       "        vertical-align: middle;\n",
       "    }\n",
       "\n",
       "    .dataframe tbody tr th {\n",
       "        vertical-align: top;\n",
       "    }\n",
       "\n",
       "    .dataframe thead th {\n",
       "        text-align: right;\n",
       "    }\n",
       "</style>\n",
       "<table border=\"1\" class=\"dataframe\">\n",
       "  <thead>\n",
       "    <tr style=\"text-align: right;\">\n",
       "      <th></th>\n",
       "      <th>Open</th>\n",
       "      <th>High</th>\n",
       "      <th>Low</th>\n",
       "      <th>Close</th>\n",
       "      <th>Volume</th>\n",
       "      <th>Tomorrow</th>\n",
       "      <th>Target</th>\n",
       "    </tr>\n",
       "    <tr>\n",
       "      <th>Date</th>\n",
       "      <th></th>\n",
       "      <th></th>\n",
       "      <th></th>\n",
       "      <th></th>\n",
       "      <th></th>\n",
       "      <th></th>\n",
       "      <th></th>\n",
       "    </tr>\n",
       "  </thead>\n",
       "  <tbody>\n",
       "    <tr>\n",
       "      <th>1999-01-04 00:00:00-05:00</th>\n",
       "      <td>1229.229980</td>\n",
       "      <td>1248.810059</td>\n",
       "      <td>1219.099976</td>\n",
       "      <td>1228.099976</td>\n",
       "      <td>877000000</td>\n",
       "      <td>1244.780029</td>\n",
       "      <td>1</td>\n",
       "    </tr>\n",
       "    <tr>\n",
       "      <th>1999-01-05 00:00:00-05:00</th>\n",
       "      <td>1228.099976</td>\n",
       "      <td>1246.109985</td>\n",
       "      <td>1228.099976</td>\n",
       "      <td>1244.780029</td>\n",
       "      <td>775000000</td>\n",
       "      <td>1272.339966</td>\n",
       "      <td>1</td>\n",
       "    </tr>\n",
       "    <tr>\n",
       "      <th>1999-01-06 00:00:00-05:00</th>\n",
       "      <td>1244.780029</td>\n",
       "      <td>1272.500000</td>\n",
       "      <td>1244.780029</td>\n",
       "      <td>1272.339966</td>\n",
       "      <td>986900000</td>\n",
       "      <td>1269.729980</td>\n",
       "      <td>0</td>\n",
       "    </tr>\n",
       "    <tr>\n",
       "      <th>1999-01-07 00:00:00-05:00</th>\n",
       "      <td>1272.339966</td>\n",
       "      <td>1272.339966</td>\n",
       "      <td>1257.680054</td>\n",
       "      <td>1269.729980</td>\n",
       "      <td>863000000</td>\n",
       "      <td>1275.089966</td>\n",
       "      <td>1</td>\n",
       "    </tr>\n",
       "    <tr>\n",
       "      <th>1999-01-08 00:00:00-05:00</th>\n",
       "      <td>1269.729980</td>\n",
       "      <td>1278.239990</td>\n",
       "      <td>1261.819946</td>\n",
       "      <td>1275.089966</td>\n",
       "      <td>937800000</td>\n",
       "      <td>1263.880005</td>\n",
       "      <td>0</td>\n",
       "    </tr>\n",
       "    <tr>\n",
       "      <th>...</th>\n",
       "      <td>...</td>\n",
       "      <td>...</td>\n",
       "      <td>...</td>\n",
       "      <td>...</td>\n",
       "      <td>...</td>\n",
       "      <td>...</td>\n",
       "      <td>...</td>\n",
       "    </tr>\n",
       "    <tr>\n",
       "      <th>2023-07-06 00:00:00-04:00</th>\n",
       "      <td>4422.620117</td>\n",
       "      <td>4422.620117</td>\n",
       "      <td>4385.049805</td>\n",
       "      <td>4411.589844</td>\n",
       "      <td>3682020000</td>\n",
       "      <td>4398.950195</td>\n",
       "      <td>0</td>\n",
       "    </tr>\n",
       "    <tr>\n",
       "      <th>2023-07-07 00:00:00-04:00</th>\n",
       "      <td>4404.540039</td>\n",
       "      <td>4440.390137</td>\n",
       "      <td>4397.399902</td>\n",
       "      <td>4398.950195</td>\n",
       "      <td>3630480000</td>\n",
       "      <td>4409.529785</td>\n",
       "      <td>1</td>\n",
       "    </tr>\n",
       "    <tr>\n",
       "      <th>2023-07-10 00:00:00-04:00</th>\n",
       "      <td>4394.229980</td>\n",
       "      <td>4412.600098</td>\n",
       "      <td>4389.919922</td>\n",
       "      <td>4409.529785</td>\n",
       "      <td>3429600000</td>\n",
       "      <td>4439.259766</td>\n",
       "      <td>1</td>\n",
       "    </tr>\n",
       "    <tr>\n",
       "      <th>2023-07-11 00:00:00-04:00</th>\n",
       "      <td>4415.549805</td>\n",
       "      <td>4443.640137</td>\n",
       "      <td>4408.459961</td>\n",
       "      <td>4439.259766</td>\n",
       "      <td>3624220000</td>\n",
       "      <td>4472.160156</td>\n",
       "      <td>1</td>\n",
       "    </tr>\n",
       "    <tr>\n",
       "      <th>2023-07-12 00:00:00-04:00</th>\n",
       "      <td>4467.689941</td>\n",
       "      <td>4488.339844</td>\n",
       "      <td>4463.229980</td>\n",
       "      <td>4472.160156</td>\n",
       "      <td>3920290000</td>\n",
       "      <td>NaN</td>\n",
       "      <td>0</td>\n",
       "    </tr>\n",
       "  </tbody>\n",
       "</table>\n",
       "<p>6170 rows × 7 columns</p>\n",
       "</div>"
      ],
      "text/plain": [
       "                                  Open         High          Low        Close  \\\n",
       "Date                                                                            \n",
       "1999-01-04 00:00:00-05:00  1229.229980  1248.810059  1219.099976  1228.099976   \n",
       "1999-01-05 00:00:00-05:00  1228.099976  1246.109985  1228.099976  1244.780029   \n",
       "1999-01-06 00:00:00-05:00  1244.780029  1272.500000  1244.780029  1272.339966   \n",
       "1999-01-07 00:00:00-05:00  1272.339966  1272.339966  1257.680054  1269.729980   \n",
       "1999-01-08 00:00:00-05:00  1269.729980  1278.239990  1261.819946  1275.089966   \n",
       "...                                ...          ...          ...          ...   \n",
       "2023-07-06 00:00:00-04:00  4422.620117  4422.620117  4385.049805  4411.589844   \n",
       "2023-07-07 00:00:00-04:00  4404.540039  4440.390137  4397.399902  4398.950195   \n",
       "2023-07-10 00:00:00-04:00  4394.229980  4412.600098  4389.919922  4409.529785   \n",
       "2023-07-11 00:00:00-04:00  4415.549805  4443.640137  4408.459961  4439.259766   \n",
       "2023-07-12 00:00:00-04:00  4467.689941  4488.339844  4463.229980  4472.160156   \n",
       "\n",
       "                               Volume     Tomorrow  Target  \n",
       "Date                                                        \n",
       "1999-01-04 00:00:00-05:00   877000000  1244.780029       1  \n",
       "1999-01-05 00:00:00-05:00   775000000  1272.339966       1  \n",
       "1999-01-06 00:00:00-05:00   986900000  1269.729980       0  \n",
       "1999-01-07 00:00:00-05:00   863000000  1275.089966       1  \n",
       "1999-01-08 00:00:00-05:00   937800000  1263.880005       0  \n",
       "...                               ...          ...     ...  \n",
       "2023-07-06 00:00:00-04:00  3682020000  4398.950195       0  \n",
       "2023-07-07 00:00:00-04:00  3630480000  4409.529785       1  \n",
       "2023-07-10 00:00:00-04:00  3429600000  4439.259766       1  \n",
       "2023-07-11 00:00:00-04:00  3624220000  4472.160156       1  \n",
       "2023-07-12 00:00:00-04:00  3920290000          NaN       0  \n",
       "\n",
       "[6170 rows x 7 columns]"
      ]
     },
     "execution_count": 118,
     "metadata": {},
     "output_type": "execute_result"
    }
   ],
   "source": [
    "sp500"
   ]
  },
  {
   "cell_type": "code",
   "execution_count": 119,
   "metadata": {},
   "outputs": [],
   "source": [
    "from sklearn.ensemble import  RandomForestClassifier"
   ]
  },
  {
   "cell_type": "code",
   "execution_count": 120,
   "metadata": {},
   "outputs": [],
   "source": [
    "model = RandomForestClassifier(n_estimators=101, min_samples_split= 99,random_state=1)"
   ]
  },
  {
   "cell_type": "code",
   "execution_count": 121,
   "metadata": {},
   "outputs": [],
   "source": [
    "train =  sp500.iloc[:-100]"
   ]
  },
  {
   "cell_type": "code",
   "execution_count": 122,
   "metadata": {},
   "outputs": [],
   "source": [
    "test = sp500[-100:]"
   ]
  },
  {
   "cell_type": "code",
   "execution_count": 123,
   "metadata": {},
   "outputs": [],
   "source": [
    "predictors = [\"Close\",\"Volume\", \"Open\", \"High\", \"Low\"]"
   ]
  },
  {
   "cell_type": "code",
   "execution_count": 124,
   "metadata": {},
   "outputs": [
    {
     "data": {
      "text/plain": [
       "RandomForestClassifier(min_samples_split=99, n_estimators=101, random_state=1)"
      ]
     },
     "execution_count": 124,
     "metadata": {},
     "output_type": "execute_result"
    }
   ],
   "source": [
    "model.fit(train[predictors] ,train[\"Target\"])"
   ]
  },
  {
   "cell_type": "code",
   "execution_count": 125,
   "metadata": {},
   "outputs": [],
   "source": [
    "from sklearn.metrics import  precision_score"
   ]
  },
  {
   "cell_type": "code",
   "execution_count": 126,
   "metadata": {},
   "outputs": [],
   "source": [
    "preds = model.predict(test[predictors])"
   ]
  },
  {
   "cell_type": "code",
   "execution_count": 127,
   "metadata": {},
   "outputs": [
    {
     "data": {
      "text/plain": [
       "array([1, 1, 0, 0, 1, 1, 1, 0, 1, 0, 0, 1, 0, 0, 0, 0, 0, 1, 0, 1, 0, 1,\n",
       "       0, 0, 0, 0, 0, 0, 0, 1, 1, 0, 1, 1, 0, 0, 1, 1, 0, 0, 0, 0, 0, 1,\n",
       "       1, 0, 1, 0, 1, 0, 0, 1, 1, 0, 0, 0, 1, 0, 1, 1, 1, 1, 0, 0, 0, 0,\n",
       "       0, 1, 0, 0, 0, 0, 0, 1, 1, 1, 1, 1, 1, 1, 1, 1, 1, 0, 1, 1, 1, 0,\n",
       "       0, 1, 1, 1, 1, 0, 1, 1, 1, 0, 1, 1])"
      ]
     },
     "execution_count": 127,
     "metadata": {},
     "output_type": "execute_result"
    }
   ],
   "source": [
    "preds"
   ]
  },
  {
   "cell_type": "code",
   "execution_count": 128,
   "metadata": {},
   "outputs": [],
   "source": [
    "import pandas as pd"
   ]
  },
  {
   "cell_type": "code",
   "execution_count": 129,
   "metadata": {},
   "outputs": [],
   "source": [
    "preds = pd.Series(preds, index= test.index)"
   ]
  },
  {
   "cell_type": "code",
   "execution_count": 130,
   "metadata": {},
   "outputs": [
    {
     "data": {
      "text/plain": [
       "Date\n",
       "2023-02-16 00:00:00-05:00    1\n",
       "2023-02-17 00:00:00-05:00    1\n",
       "2023-02-21 00:00:00-05:00    0\n",
       "2023-02-22 00:00:00-05:00    0\n",
       "2023-02-23 00:00:00-05:00    1\n",
       "                            ..\n",
       "2023-07-06 00:00:00-04:00    1\n",
       "2023-07-07 00:00:00-04:00    1\n",
       "2023-07-10 00:00:00-04:00    0\n",
       "2023-07-11 00:00:00-04:00    1\n",
       "2023-07-12 00:00:00-04:00    1\n",
       "Length: 100, dtype: int32"
      ]
     },
     "execution_count": 130,
     "metadata": {},
     "output_type": "execute_result"
    }
   ],
   "source": [
    "preds"
   ]
  },
  {
   "cell_type": "code",
   "execution_count": 131,
   "metadata": {},
   "outputs": [
    {
     "data": {
      "text/plain": [
       "0.54"
      ]
     },
     "execution_count": 131,
     "metadata": {},
     "output_type": "execute_result"
    }
   ],
   "source": [
    "precision_score(test[\"Target\"], preds)"
   ]
  },
  {
   "cell_type": "code",
   "execution_count": 132,
   "metadata": {},
   "outputs": [],
   "source": [
    "combined = pd.concat([test[\"Target\"], preds], axis=1)"
   ]
  },
  {
   "cell_type": "code",
   "execution_count": 133,
   "metadata": {},
   "outputs": [
    {
     "data": {
      "text/plain": [
       "<AxesSubplot:xlabel='Date'>"
      ]
     },
     "execution_count": 133,
     "metadata": {},
     "output_type": "execute_result"
    },
    {
     "data": {
      "image/png": "[encoded data removed]",
      "text/plain": [
       "<Figure size 640x480 with 1 Axes>"
      ]
     },
     "metadata": {},
     "output_type": "display_data"
    }
   ],
   "source": [
    "combined.plot()"
   ]
  },
  {
   "cell_type": "code",
   "execution_count": 134,
   "metadata": {},
   "outputs": [],
   "source": [
    "def predict(train, test, predictors, model):\n",
    "    model.fit(train[predictors], train[\"Target\"])\n",
    "    preds = model.predict(test[predictors])\n",
    "    preds = pd.Series(preds, index=test.index, name=\"Predictions\")\n",
    "    combined = pd.concat([test[\"Target\"], preds], axis=1)\n",
    "    return combined"
   ]
  },
  {
   "cell_type": "code",
   "execution_count": 135,
   "metadata": {},
   "outputs": [
    {
     "name": "stdout",
     "output_type": "stream",
     "text": [
      "Requirement already satisfied: yfinance in c:\\users\\jraman\\anaconda3\\lib\\site-packages (0.2.22)Requirement already satisfied: yfinance in c:\\users\\jraman\\anaconda3\\lib\\site-packages (0.2.22)\n",
      "Requirement already satisfied: beautifulsoup4>=4.11.1 in c:\\users\\jraman\\anaconda3\\lib\\site-packages (from yfinance) (4.11.1)\n",
      "Requirement already satisfied: requests>=2.26 in c:\\users\\jraman\\anaconda3\\lib\\site-packages (from yfinance) (2.28.1)\n",
      "Requirement already satisfied: numpy>=1.16.5 in c:\\users\\jraman\\anaconda3\\lib\\site-packages (from yfinance) (1.21.5)\n",
      "Requirement already satisfied: html5lib>=1.1 in c:\\users\\jraman\\anaconda3\\lib\\site-packages (from yfinance) (1.1)\n",
      "Requirement already satisfied: multitasking>=0.0.7 in c:\\users\\jraman\\anaconda3\\lib\\site-packages (from yfinance) (0.0.11)\n",
      "Requirement already satisfied: lxml>=4.9.1 in c:\\users\\jraman\\anaconda3\\lib\\site-packages (from yfinance) (4.9.1)\n",
      "Requirement already satisfied: pytz>=2022.5 in c:\\users\\jraman\\anaconda3\\lib\\site-packages (from yfinance) (2023.3)\n",
      "Requirement already satisfied: frozendict>=2.3.4 in c:\\users\\jraman\\anaconda3\\lib\\site-packages (from yfinance) (2.3.8)\n",
      "Requirement already satisfied: appdirs>=1.4.4 in c:\\users\\jraman\\anaconda3\\lib\\site-packages (from yfinance) (1.4.4)\n",
      "Requirement already satisfied: pandas>=1.3.0 in c:\\users\\jraman\\anaconda3\\lib\\site-packages (from yfinance) (1.4.4)\n",
      "Requirement already satisfied: soupsieve>1.2 in c:\\users\\jraman\\anaconda3\\lib\\site-packages (from beautifulsoup4>=4.11.1->yfinance) (2.3.1)\n",
      "Requirement already satisfied: six>=1.9 in c:\\users\\jraman\\anaconda3\\lib\\site-packages (from html5lib>=1.1->yfinance) (1.16.0)\n",
      "Requirement already satisfied: webencodings in c:\\users\\jraman\\anaconda3\\lib\\site-packages (from html5lib>=1.1->yfinance) (0.5.1)\n",
      "Requirement already satisfied: python-dateutil>=2.8.1 in c:\\users\\jraman\\anaconda3\\lib\\site-packages (from pandas>=1.3.0->yfinance) (2.8.2)\n",
      "Requirement already satisfied: idna<4,>=2.5 in c:\\users\\jraman\\anaconda3\\lib\\site-packages (from requests>=2.26->yfinance) (3.3)\n",
      "Requirement already satisfied: urllib3<1.27,>=1.21.1 in c:\\users\\jraman\\anaconda3\\lib\\site-packages (from requests>=2.26->yfinance) (1.26.11)\n",
      "Requirement already satisfied: certifi>=2017.4.17 in c:\\users\\jraman\\anaconda3\\lib\\site-packages (from requests>=2.26->yfinance) (2022.9.14)\n",
      "Requirement already satisfied: charset-normalizer<3,>=2 in c:\\users\\jraman\\anaconda3\\lib\\site-packages (from requests>=2.26->yfinance) (2.0.4)\n",
      "\n",
      "Requirement already satisfied: beautifulsoup4>=4.11.1 in c:\\users\\jraman\\anaconda3\\lib\\site-packages (from yfinance) (4.11.1)\n",
      "Requirement already satisfied: requests>=2.26 in c:\\users\\jraman\\anaconda3\\lib\\site-packages (from yfinance) (2.28.1)\n",
      "Requirement already satisfied: numpy>=1.16.5 in c:\\users\\jraman\\anaconda3\\lib\\site-packages (from yfinance) (1.21.5)\n",
      "Requirement already satisfied: frozendict>=2.3.4 in c:\\users\\jraman\\anaconda3\\lib\\site-packages (from yfinance) (2.3.8)\n",
      "Requirement already satisfied: multitasking>=0.0.7 in c:\\users\\jraman\\anaconda3\\lib\\site-packages (from yfinance) (0.0.11)\n",
      "Requirement already satisfied: appdirs>=1.4.4 in c:\\users\\jraman\\anaconda3\\lib\\site-packages (from yfinance) (1.4.4)\n",
      "Requirement already satisfied: lxml>=4.9.1 in c:\\users\\jraman\\anaconda3\\lib\\site-packages (from yfinance) (4.9.1)\n",
      "Requirement already satisfied: pandas>=1.3.0 in c:\\users\\jraman\\anaconda3\\lib\\site-packages (from yfinance) (1.4.4)\n",
      "Requirement already satisfied: pytz>=2022.5 in c:\\users\\jraman\\anaconda3\\lib\\site-packages (from yfinance) (2023.3)\n",
      "Requirement already satisfied: html5lib>=1.1 in c:\\users\\jraman\\anaconda3\\lib\\site-packages (from yfinance) (1.1)\n",
      "Requirement already satisfied: soupsieve>1.2 in c:\\users\\jraman\\anaconda3\\lib\\site-packages (from beautifulsoup4>=4.11.1->yfinance) (2.3.1)\n",
      "Requirement already satisfied: six>=1.9 in c:\\users\\jraman\\anaconda3\\lib\\site-packages (from html5lib>=1.1->yfinance) (1.16.0)\n",
      "Requirement already satisfied: webencodings in c:\\users\\jraman\\anaconda3\\lib\\site-packages (from html5lib>=1.1->yfinance) (0.5.1)\n",
      "Requirement already satisfied: python-dateutil>=2.8.1 in c:\\users\\jraman\\anaconda3\\lib\\site-packages (from pandas>=1.3.0->yfinance) (2.8.2)\n",
      "Requirement already satisfied: certifi>=2017.4.17 in c:\\users\\jraman\\anaconda3\\lib\\site-packages (from requests>=2.26->yfinance) (2022.9.14)\n",
      "Requirement already satisfied: urllib3<1.27,>=1.21.1 in c:\\users\\jraman\\anaconda3\\lib\\site-packages (from requests>=2.26->yfinance) (1.26.11)\n",
      "Requirement already satisfied: charset-normalizer<3,>=2 in c:\\users\\jraman\\anaconda3\\lib\\site-packages (from requests>=2.26->yfinance) (2.0.4)\n",
      "Requirement already satisfied: idna<4,>=2.5 in c:\\users\\jraman\\anaconda3\\lib\\site-packages (from requests>=2.26->yfinance) (3.3)\n"
     ]
    }
   ],
   "source": [
    "def backtest(data, model, predictors, start = 2500, step=250):\n",
    "    all_predictions = []\n",
    "\n",
    "\n",
    "    for  i in range(start, data.shape[0], step):\n",
    "        train = data.iloc[0:1].copy()\n",
    "        test = data.iloc[i:(i+step)].copy()\n",
    "        predictions  = predict(train,  test, predictors, model)\n",
    "        all_predictions.append(predictions)\n",
    "    return pd.concat(all_predictions)"
   ]
  },
  {
   "cell_type": "code",
   "execution_count": 136,
   "metadata": {},
   "outputs": [],
   "source": [
    "predictions = backtest(sp500, model, predictors)"
   ]
  },
  {
   "cell_type": "code",
   "execution_count": 137,
   "metadata": {},
   "outputs": [
    {
     "data": {
      "text/plain": [
       "1    3670\n",
       "Name: Predictions, dtype: int64"
      ]
     },
     "execution_count": 137,
     "metadata": {},
     "output_type": "execute_result"
    }
   ],
   "source": [
    "predictions[\"Predictions\"].value_counts()"
   ]
  },
  {
   "cell_type": "code",
   "execution_count": 138,
   "metadata": {},
   "outputs": [
    {
     "data": {
      "text/plain": [
       "0.5430517711171662"
      ]
     },
     "execution_count": 138,
     "metadata": {},
     "output_type": "execute_result"
    }
   ],
   "source": [
    "precision_score(predictions[\"Target\"] ,predictions[\"Predictions\"])"
   ]
  },
  {
   "cell_type": "code",
   "execution_count": 139,
   "metadata": {},
   "outputs": [
    {
     "data": {
      "text/plain": [
       "1    0.543052\n",
       "0    0.456948\n",
       "Name: Target, dtype: float64"
      ]
     },
     "execution_count": 139,
     "metadata": {},
     "output_type": "execute_result"
    }
   ],
   "source": [
    "predictions[\"Target\"].value_counts()/predictions.shape[0]"
   ]
  },
  {
   "cell_type": "code",
   "execution_count": 140,
   "metadata": {},
   "outputs": [],
   "source": [
    "horzions = [2,5,60,250,1000]\n",
    "new_predictors = []"
   ]
  },
  {
   "cell_type": "code",
   "execution_count": null,
   "metadata": {},
   "outputs": [
    {
     "ename": "AttributeError",
     "evalue": "'NoneType' object has no attribute 'rolling'",
     "output_type": "error",
     "traceback": [
      "\u001b[1;31m---------------------------------------------------------------------------\u001b[0m",
      "\u001b[1;31mAttributeError\u001b[0m                            Traceback (most recent call last)",
      "\u001b[1;32m~\\AppData\\Local\\Temp\\ipykernel_13168\\333844107.py\u001b[0m in \u001b[0;36m<module>\u001b[1;34m\u001b[0m\n\u001b[1;32m----> 1\u001b[1;33m \u001b[0msp500\u001b[0m\u001b[1;33m.\u001b[0m\u001b[0mrolling\u001b[0m\u001b[1;33m\u001b[0m\u001b[1;33m\u001b[0m\u001b[0m\n\u001b[0m",
      "\u001b[1;31mAttributeError\u001b[0m: 'NoneType' object has no attribute 'rolling'"
     ]
    }
   ],
   "source": [
    "sp500.rolling"
   ]
  },
  {
   "cell_type": "code",
   "execution_count": 141,
   "metadata": {},
   "outputs": [],
   "source": [
    "for horzion in horzions:\n",
    "    rolling_averges = sp500.rolling(horzion).mean()\n",
    "\n",
    "    ratio_column = f\"Close_Rati0_{horzion}\"\n",
    "    sp500[ratio_column] = sp500[\"Close\"]/rolling_averges[\"Close\"]\n",
    "\n",
    "\n",
    "    trend_column = f\"Trend_{horzion}\"\n",
    "    sp500[trend_column] = sp500.shift(1).rolling(horzion).sum()[\"Target\"]\n",
    "\n",
    "\n",
    "    new_predictors +=  [ratio_column, trend_column]"
   ]
  },
  {
   "cell_type": "code",
   "execution_count": 142,
   "metadata": {},
   "outputs": [],
   "source": [
    "sp500= sp500.dropna()"
   ]
  },
  {
   "cell_type": "code",
   "execution_count": null,
   "metadata": {},
   "outputs": [
    {
     "ename": "AttributeError",
     "evalue": "'NoneType' object has no attribute 'dropna'",
     "output_type": "error",
     "traceback": [
      "\u001b[1;31m---------------------------------------------------------------------------\u001b[0m",
      "\u001b[1;31mAttributeError\u001b[0m                            Traceback (most recent call last)",
      "\u001b[1;32m~\\AppData\\Local\\Temp\\ipykernel_13168\\1946756737.py\u001b[0m in \u001b[0;36m<module>\u001b[1;34m\u001b[0m\n\u001b[1;32m----> 1\u001b[1;33m \u001b[0msp500\u001b[0m \u001b[1;33m=\u001b[0m \u001b[0msp500\u001b[0m\u001b[1;33m.\u001b[0m\u001b[0mdropna\u001b[0m\u001b[1;33m(\u001b[0m\u001b[0mhow\u001b[0m \u001b[1;33m=\u001b[0m \u001b[1;34m'any'\u001b[0m\u001b[1;33m)\u001b[0m\u001b[1;33m\u001b[0m\u001b[1;33m\u001b[0m\u001b[0m\n\u001b[0m",
      "\u001b[1;31mAttributeError\u001b[0m: 'NoneType' object has no attribute 'dropna'"
     ]
    }
   ],
   "source": [
    "sp500 = sp500.dropna()"
   ]
  },
  {
   "cell_type": "code",
   "execution_count": 143,
   "metadata": {},
   "outputs": [
    {
     "data": {
      "text/html": [
       "<div>\n",
       "<style scoped>\n",
       "    .dataframe tbody tr th:only-of-type {\n",
       "        vertical-align: middle;\n",
       "    }\n",
       "\n",
       "    .dataframe tbody tr th {\n",
       "        vertical-align: top;\n",
       "    }\n",
       "\n",
       "    .dataframe thead th {\n",
       "        text-align: right;\n",
       "    }\n",
       "</style>\n",
       "<table border=\"1\" class=\"dataframe\">\n",
       "  <thead>\n",
       "    <tr style=\"text-align: right;\">\n",
       "      <th></th>\n",
       "      <th>Open</th>\n",
       "      <th>High</th>\n",
       "      <th>Low</th>\n",
       "      <th>Close</th>\n",
       "      <th>Volume</th>\n",
       "      <th>Tomorrow</th>\n",
       "      <th>Target</th>\n",
       "      <th>Close_Rati0_2</th>\n",
       "      <th>Trend_2</th>\n",
       "      <th>Close_Rati0_5</th>\n",
       "      <th>Trend_5</th>\n",
       "      <th>Close_Rati0_60</th>\n",
       "      <th>Trend_60</th>\n",
       "      <th>Close_Rati0_250</th>\n",
       "      <th>Trend_250</th>\n",
       "      <th>Close_Rati0_1000</th>\n",
       "      <th>Trend_1000</th>\n",
       "    </tr>\n",
       "    <tr>\n",
       "      <th>Date</th>\n",
       "      <th></th>\n",
       "      <th></th>\n",
       "      <th></th>\n",
       "      <th></th>\n",
       "      <th></th>\n",
       "      <th></th>\n",
       "      <th></th>\n",
       "      <th></th>\n",
       "      <th></th>\n",
       "      <th></th>\n",
       "      <th></th>\n",
       "      <th></th>\n",
       "      <th></th>\n",
       "      <th></th>\n",
       "      <th></th>\n",
       "      <th></th>\n",
       "      <th></th>\n",
       "    </tr>\n",
       "  </thead>\n",
       "  <tbody>\n",
       "    <tr>\n",
       "      <th>2002-12-26 00:00:00-05:00</th>\n",
       "      <td>892.469971</td>\n",
       "      <td>903.890015</td>\n",
       "      <td>887.479980</td>\n",
       "      <td>889.659973</td>\n",
       "      <td>721100000</td>\n",
       "      <td>875.400024</td>\n",
       "      <td>0</td>\n",
       "      <td>0.998423</td>\n",
       "      <td>0.0</td>\n",
       "      <td>0.997484</td>\n",
       "      <td>2.0</td>\n",
       "      <td>1.002334</td>\n",
       "      <td>28.0</td>\n",
       "      <td>0.893287</td>\n",
       "      <td>110.0</td>\n",
       "      <td>0.719259</td>\n",
       "      <td>478.0</td>\n",
       "    </tr>\n",
       "    <tr>\n",
       "      <th>2002-12-27 00:00:00-05:00</th>\n",
       "      <td>889.659973</td>\n",
       "      <td>890.460022</td>\n",
       "      <td>873.619995</td>\n",
       "      <td>875.400024</td>\n",
       "      <td>758400000</td>\n",
       "      <td>879.390015</td>\n",
       "      <td>1</td>\n",
       "      <td>0.991921</td>\n",
       "      <td>0.0</td>\n",
       "      <td>0.983447</td>\n",
       "      <td>2.0</td>\n",
       "      <td>0.985390</td>\n",
       "      <td>28.0</td>\n",
       "      <td>0.879932</td>\n",
       "      <td>110.0</td>\n",
       "      <td>0.707942</td>\n",
       "      <td>477.0</td>\n",
       "    </tr>\n",
       "    <tr>\n",
       "      <th>2002-12-30 00:00:00-05:00</th>\n",
       "      <td>875.400024</td>\n",
       "      <td>882.099976</td>\n",
       "      <td>870.229980</td>\n",
       "      <td>879.390015</td>\n",
       "      <td>1057800000</td>\n",
       "      <td>879.820007</td>\n",
       "      <td>1</td>\n",
       "      <td>1.002274</td>\n",
       "      <td>1.0</td>\n",
       "      <td>0.991577</td>\n",
       "      <td>2.0</td>\n",
       "      <td>0.988760</td>\n",
       "      <td>29.0</td>\n",
       "      <td>0.884922</td>\n",
       "      <td>110.0</td>\n",
       "      <td>0.711394</td>\n",
       "      <td>477.0</td>\n",
       "    </tr>\n",
       "    <tr>\n",
       "      <th>2002-12-31 00:00:00-05:00</th>\n",
       "      <td>879.390015</td>\n",
       "      <td>881.929993</td>\n",
       "      <td>869.450012</td>\n",
       "      <td>879.820007</td>\n",
       "      <td>1088500000</td>\n",
       "      <td>909.030029</td>\n",
       "      <td>1</td>\n",
       "      <td>1.000244</td>\n",
       "      <td>2.0</td>\n",
       "      <td>0.996006</td>\n",
       "      <td>2.0</td>\n",
       "      <td>0.987776</td>\n",
       "      <td>30.0</td>\n",
       "      <td>0.886373</td>\n",
       "      <td>110.0</td>\n",
       "      <td>0.711967</td>\n",
       "      <td>478.0</td>\n",
       "    </tr>\n",
       "    <tr>\n",
       "      <th>2003-01-02 00:00:00-05:00</th>\n",
       "      <td>879.820007</td>\n",
       "      <td>909.030029</td>\n",
       "      <td>879.820007</td>\n",
       "      <td>909.030029</td>\n",
       "      <td>1229200000</td>\n",
       "      <td>908.590027</td>\n",
       "      <td>0</td>\n",
       "      <td>1.016329</td>\n",
       "      <td>2.0</td>\n",
       "      <td>1.025230</td>\n",
       "      <td>3.0</td>\n",
       "      <td>1.018213</td>\n",
       "      <td>31.0</td>\n",
       "      <td>0.916774</td>\n",
       "      <td>110.0</td>\n",
       "      <td>0.735822</td>\n",
       "      <td>478.0</td>\n",
       "    </tr>\n",
       "    <tr>\n",
       "      <th>...</th>\n",
       "      <td>...</td>\n",
       "      <td>...</td>\n",
       "      <td>...</td>\n",
       "      <td>...</td>\n",
       "      <td>...</td>\n",
       "      <td>...</td>\n",
       "      <td>...</td>\n",
       "      <td>...</td>\n",
       "      <td>...</td>\n",
       "      <td>...</td>\n",
       "      <td>...</td>\n",
       "      <td>...</td>\n",
       "      <td>...</td>\n",
       "      <td>...</td>\n",
       "      <td>...</td>\n",
       "      <td>...</td>\n",
       "      <td>...</td>\n",
       "    </tr>\n",
       "    <tr>\n",
       "      <th>2023-07-05 00:00:00-04:00</th>\n",
       "      <td>4442.040039</td>\n",
       "      <td>4454.060059</td>\n",
       "      <td>4436.609863</td>\n",
       "      <td>4446.819824</td>\n",
       "      <td>3482620000</td>\n",
       "      <td>4411.589844</td>\n",
       "      <td>0</td>\n",
       "      <td>0.999015</td>\n",
       "      <td>1.0</td>\n",
       "      <td>1.004882</td>\n",
       "      <td>3.0</td>\n",
       "      <td>1.053506</td>\n",
       "      <td>32.0</td>\n",
       "      <td>1.107719</td>\n",
       "      <td>118.0</td>\n",
       "      <td>1.172030</td>\n",
       "      <td>532.0</td>\n",
       "    </tr>\n",
       "    <tr>\n",
       "      <th>2023-07-06 00:00:00-04:00</th>\n",
       "      <td>4422.620117</td>\n",
       "      <td>4422.620117</td>\n",
       "      <td>4385.049805</td>\n",
       "      <td>4411.589844</td>\n",
       "      <td>3682020000</td>\n",
       "      <td>4398.950195</td>\n",
       "      <td>0</td>\n",
       "      <td>0.996023</td>\n",
       "      <td>0.0</td>\n",
       "      <td>0.995358</td>\n",
       "      <td>3.0</td>\n",
       "      <td>1.043912</td>\n",
       "      <td>31.0</td>\n",
       "      <td>1.098386</td>\n",
       "      <td>117.0</td>\n",
       "      <td>1.162313</td>\n",
       "      <td>532.0</td>\n",
       "    </tr>\n",
       "    <tr>\n",
       "      <th>2023-07-07 00:00:00-04:00</th>\n",
       "      <td>4404.540039</td>\n",
       "      <td>4440.390137</td>\n",
       "      <td>4397.399902</td>\n",
       "      <td>4398.950195</td>\n",
       "      <td>3630480000</td>\n",
       "      <td>4409.529785</td>\n",
       "      <td>1</td>\n",
       "      <td>0.998565</td>\n",
       "      <td>0.0</td>\n",
       "      <td>0.992394</td>\n",
       "      <td>2.0</td>\n",
       "      <td>1.039732</td>\n",
       "      <td>31.0</td>\n",
       "      <td>1.094695</td>\n",
       "      <td>117.0</td>\n",
       "      <td>1.158551</td>\n",
       "      <td>532.0</td>\n",
       "    </tr>\n",
       "    <tr>\n",
       "      <th>2023-07-10 00:00:00-04:00</th>\n",
       "      <td>4394.229980</td>\n",
       "      <td>4412.600098</td>\n",
       "      <td>4389.919922</td>\n",
       "      <td>4409.529785</td>\n",
       "      <td>3429600000</td>\n",
       "      <td>4439.259766</td>\n",
       "      <td>1</td>\n",
       "      <td>1.001201</td>\n",
       "      <td>1.0</td>\n",
       "      <td>0.996617</td>\n",
       "      <td>2.0</td>\n",
       "      <td>1.040931</td>\n",
       "      <td>32.0</td>\n",
       "      <td>1.096722</td>\n",
       "      <td>118.0</td>\n",
       "      <td>1.160905</td>\n",
       "      <td>532.0</td>\n",
       "    </tr>\n",
       "    <tr>\n",
       "      <th>2023-07-11 00:00:00-04:00</th>\n",
       "      <td>4415.549805</td>\n",
       "      <td>4443.640137</td>\n",
       "      <td>4408.459961</td>\n",
       "      <td>4439.259766</td>\n",
       "      <td>3624220000</td>\n",
       "      <td>4472.160156</td>\n",
       "      <td>1</td>\n",
       "      <td>1.003360</td>\n",
       "      <td>2.0</td>\n",
       "      <td>1.004078</td>\n",
       "      <td>2.0</td>\n",
       "      <td>1.046742</td>\n",
       "      <td>32.0</td>\n",
       "      <td>1.103435</td>\n",
       "      <td>119.0</td>\n",
       "      <td>1.168282</td>\n",
       "      <td>533.0</td>\n",
       "    </tr>\n",
       "  </tbody>\n",
       "</table>\n",
       "<p>5169 rows × 17 columns</p>\n",
       "</div>"
      ],
      "text/plain": [
       "                                  Open         High          Low        Close  \\\n",
       "Date                                                                            \n",
       "2002-12-26 00:00:00-05:00   892.469971   903.890015   887.479980   889.659973   \n",
       "2002-12-27 00:00:00-05:00   889.659973   890.460022   873.619995   875.400024   \n",
       "2002-12-30 00:00:00-05:00   875.400024   882.099976   870.229980   879.390015   \n",
       "2002-12-31 00:00:00-05:00   879.390015   881.929993   869.450012   879.820007   \n",
       "2003-01-02 00:00:00-05:00   879.820007   909.030029   879.820007   909.030029   \n",
       "...                                ...          ...          ...          ...   \n",
       "2023-07-05 00:00:00-04:00  4442.040039  4454.060059  4436.609863  4446.819824   \n",
       "2023-07-06 00:00:00-04:00  4422.620117  4422.620117  4385.049805  4411.589844   \n",
       "2023-07-07 00:00:00-04:00  4404.540039  4440.390137  4397.399902  4398.950195   \n",
       "2023-07-10 00:00:00-04:00  4394.229980  4412.600098  4389.919922  4409.529785   \n",
       "2023-07-11 00:00:00-04:00  4415.549805  4443.640137  4408.459961  4439.259766   \n",
       "\n",
       "                               Volume     Tomorrow  Target  Close_Rati0_2  \\\n",
       "Date                                                                        \n",
       "2002-12-26 00:00:00-05:00   721100000   875.400024       0       0.998423   \n",
       "2002-12-27 00:00:00-05:00   758400000   879.390015       1       0.991921   \n",
       "2002-12-30 00:00:00-05:00  1057800000   879.820007       1       1.002274   \n",
       "2002-12-31 00:00:00-05:00  1088500000   909.030029       1       1.000244   \n",
       "2003-01-02 00:00:00-05:00  1229200000   908.590027       0       1.016329   \n",
       "...                               ...          ...     ...            ...   \n",
       "2023-07-05 00:00:00-04:00  3482620000  4411.589844       0       0.999015   \n",
       "2023-07-06 00:00:00-04:00  3682020000  4398.950195       0       0.996023   \n",
       "2023-07-07 00:00:00-04:00  3630480000  4409.529785       1       0.998565   \n",
       "2023-07-10 00:00:00-04:00  3429600000  4439.259766       1       1.001201   \n",
       "2023-07-11 00:00:00-04:00  3624220000  4472.160156       1       1.003360   \n",
       "\n",
       "                           Trend_2  Close_Rati0_5  Trend_5  Close_Rati0_60  \\\n",
       "Date                                                                         \n",
       "2002-12-26 00:00:00-05:00      0.0       0.997484      2.0        1.002334   \n",
       "2002-12-27 00:00:00-05:00      0.0       0.983447      2.0        0.985390   \n",
       "2002-12-30 00:00:00-05:00      1.0       0.991577      2.0        0.988760   \n",
       "2002-12-31 00:00:00-05:00      2.0       0.996006      2.0        0.987776   \n",
       "2003-01-02 00:00:00-05:00      2.0       1.025230      3.0        1.018213   \n",
       "...                            ...            ...      ...             ...   \n",
       "2023-07-05 00:00:00-04:00      1.0       1.004882      3.0        1.053506   \n",
       "2023-07-06 00:00:00-04:00      0.0       0.995358      3.0        1.043912   \n",
       "2023-07-07 00:00:00-04:00      0.0       0.992394      2.0        1.039732   \n",
       "2023-07-10 00:00:00-04:00      1.0       0.996617      2.0        1.040931   \n",
       "2023-07-11 00:00:00-04:00      2.0       1.004078      2.0        1.046742   \n",
       "\n",
       "                           Trend_60  Close_Rati0_250  Trend_250  \\\n",
       "Date                                                              \n",
       "2002-12-26 00:00:00-05:00      28.0         0.893287      110.0   \n",
       "2002-12-27 00:00:00-05:00      28.0         0.879932      110.0   \n",
       "2002-12-30 00:00:00-05:00      29.0         0.884922      110.0   \n",
       "2002-12-31 00:00:00-05:00      30.0         0.886373      110.0   \n",
       "2003-01-02 00:00:00-05:00      31.0         0.916774      110.0   \n",
       "...                             ...              ...        ...   \n",
       "2023-07-05 00:00:00-04:00      32.0         1.107719      118.0   \n",
       "2023-07-06 00:00:00-04:00      31.0         1.098386      117.0   \n",
       "2023-07-07 00:00:00-04:00      31.0         1.094695      117.0   \n",
       "2023-07-10 00:00:00-04:00      32.0         1.096722      118.0   \n",
       "2023-07-11 00:00:00-04:00      32.0         1.103435      119.0   \n",
       "\n",
       "                           Close_Rati0_1000  Trend_1000  \n",
       "Date                                                     \n",
       "2002-12-26 00:00:00-05:00          0.719259       478.0  \n",
       "2002-12-27 00:00:00-05:00          0.707942       477.0  \n",
       "2002-12-30 00:00:00-05:00          0.711394       477.0  \n",
       "2002-12-31 00:00:00-05:00          0.711967       478.0  \n",
       "2003-01-02 00:00:00-05:00          0.735822       478.0  \n",
       "...                                     ...         ...  \n",
       "2023-07-05 00:00:00-04:00          1.172030       532.0  \n",
       "2023-07-06 00:00:00-04:00          1.162313       532.0  \n",
       "2023-07-07 00:00:00-04:00          1.158551       532.0  \n",
       "2023-07-10 00:00:00-04:00          1.160905       532.0  \n",
       "2023-07-11 00:00:00-04:00          1.168282       533.0  \n",
       "\n",
       "[5169 rows x 17 columns]"
      ]
     },
     "execution_count": 143,
     "metadata": {},
     "output_type": "execute_result"
    }
   ],
   "source": [
    "sp500"
   ]
  },
  {
   "cell_type": "code",
   "execution_count": 144,
   "metadata": {},
   "outputs": [],
   "source": [
    "model = RandomForestClassifier(n_estimators=200, min_samples_split=50, random_state=1)"
   ]
  },
  {
   "cell_type": "code",
   "execution_count": 147,
   "metadata": {},
   "outputs": [],
   "source": [
    "def predict(train, test, predictors, model):\n",
    "    model.fit(train[predictors], train[\"Target\"])\n",
    "    preds = model.predict_proba(test[predictors])[:,1]\n",
    "    preds[preds >=.6] = 1\n",
    "    preds[preds <.6] = 0\n",
    "    preds = pd.Series(preds, index=test.index, name=\"Predictions\")\n",
    "    combined = pd.concat([test[\"Target\"], preds], axis=1)\n",
    "    return combined"
   ]
  },
  {
   "cell_type": "code",
   "execution_count": 149,
   "metadata": {},
   "outputs": [
    {
     "ename": "IndexError",
     "evalue": "index 1 is out of bounds for axis 1 with size 1",
     "output_type": "error",
     "traceback": [
      "\u001b[1;31m---------------------------------------------------------------------------\u001b[0m",
      "\u001b[1;31mIndexError\u001b[0m                                Traceback (most recent call last)",
      "\u001b[1;32m~\\AppData\\Local\\Temp\\ipykernel_13168\\979816940.py\u001b[0m in \u001b[0;36m<module>\u001b[1;34m\u001b[0m\n\u001b[1;32m----> 1\u001b[1;33m \u001b[0mpredictions\u001b[0m \u001b[1;33m=\u001b[0m \u001b[0mbacktest\u001b[0m\u001b[1;33m(\u001b[0m\u001b[0msp500\u001b[0m\u001b[1;33m,\u001b[0m \u001b[0mmodel\u001b[0m\u001b[1;33m,\u001b[0m \u001b[0mnew_predictors\u001b[0m\u001b[1;33m)\u001b[0m\u001b[1;33m\u001b[0m\u001b[1;33m\u001b[0m\u001b[0m\n\u001b[0m",
      "\u001b[1;32m~\\AppData\\Local\\Temp\\ipykernel_13168\\1174609020.py\u001b[0m in \u001b[0;36mbacktest\u001b[1;34m(data, model, predictors, start, step)\u001b[0m\n\u001b[0;32m      6\u001b[0m         \u001b[0mtrain\u001b[0m \u001b[1;33m=\u001b[0m \u001b[0mdata\u001b[0m\u001b[1;33m.\u001b[0m\u001b[0miloc\u001b[0m\u001b[1;33m[\u001b[0m\u001b[1;36m0\u001b[0m\u001b[1;33m:\u001b[0m\u001b[1;36m1\u001b[0m\u001b[1;33m]\u001b[0m\u001b[1;33m.\u001b[0m\u001b[0mcopy\u001b[0m\u001b[1;33m(\u001b[0m\u001b[1;33m)\u001b[0m\u001b[1;33m\u001b[0m\u001b[1;33m\u001b[0m\u001b[0m\n\u001b[0;32m      7\u001b[0m         \u001b[0mtest\u001b[0m \u001b[1;33m=\u001b[0m \u001b[0mdata\u001b[0m\u001b[1;33m.\u001b[0m\u001b[0miloc\u001b[0m\u001b[1;33m[\u001b[0m\u001b[0mi\u001b[0m\u001b[1;33m:\u001b[0m\u001b[1;33m(\u001b[0m\u001b[0mi\u001b[0m\u001b[1;33m+\u001b[0m\u001b[0mstep\u001b[0m\u001b[1;33m)\u001b[0m\u001b[1;33m]\u001b[0m\u001b[1;33m.\u001b[0m\u001b[0mcopy\u001b[0m\u001b[1;33m(\u001b[0m\u001b[1;33m)\u001b[0m\u001b[1;33m\u001b[0m\u001b[1;33m\u001b[0m\u001b[0m\n\u001b[1;32m----> 8\u001b[1;33m         \u001b[0mpredictions\u001b[0m  \u001b[1;33m=\u001b[0m \u001b[0mpredict\u001b[0m\u001b[1;33m(\u001b[0m\u001b[0mtrain\u001b[0m\u001b[1;33m,\u001b[0m  \u001b[0mtest\u001b[0m\u001b[1;33m,\u001b[0m \u001b[0mpredictors\u001b[0m\u001b[1;33m,\u001b[0m \u001b[0mmodel\u001b[0m\u001b[1;33m)\u001b[0m\u001b[1;33m\u001b[0m\u001b[1;33m\u001b[0m\u001b[0m\n\u001b[0m\u001b[0;32m      9\u001b[0m         \u001b[0mall_predictions\u001b[0m\u001b[1;33m.\u001b[0m\u001b[0mappend\u001b[0m\u001b[1;33m(\u001b[0m\u001b[0mpredictions\u001b[0m\u001b[1;33m)\u001b[0m\u001b[1;33m\u001b[0m\u001b[1;33m\u001b[0m\u001b[0m\n\u001b[0;32m     10\u001b[0m     \u001b[1;32mreturn\u001b[0m \u001b[0mpd\u001b[0m\u001b[1;33m.\u001b[0m\u001b[0mconcat\u001b[0m\u001b[1;33m(\u001b[0m\u001b[0mall_predictions\u001b[0m\u001b[1;33m)\u001b[0m\u001b[1;33m\u001b[0m\u001b[1;33m\u001b[0m\u001b[0m\n",
      "\u001b[1;32m~\\AppData\\Local\\Temp\\ipykernel_13168\\1368362811.py\u001b[0m in \u001b[0;36mpredict\u001b[1;34m(train, test, predictors, model)\u001b[0m\n\u001b[0;32m      1\u001b[0m \u001b[1;32mdef\u001b[0m \u001b[0mpredict\u001b[0m\u001b[1;33m(\u001b[0m\u001b[0mtrain\u001b[0m\u001b[1;33m,\u001b[0m \u001b[0mtest\u001b[0m\u001b[1;33m,\u001b[0m \u001b[0mpredictors\u001b[0m\u001b[1;33m,\u001b[0m \u001b[0mmodel\u001b[0m\u001b[1;33m)\u001b[0m\u001b[1;33m:\u001b[0m\u001b[1;33m\u001b[0m\u001b[1;33m\u001b[0m\u001b[0m\n\u001b[0;32m      2\u001b[0m     \u001b[0mmodel\u001b[0m\u001b[1;33m.\u001b[0m\u001b[0mfit\u001b[0m\u001b[1;33m(\u001b[0m\u001b[0mtrain\u001b[0m\u001b[1;33m[\u001b[0m\u001b[0mpredictors\u001b[0m\u001b[1;33m]\u001b[0m\u001b[1;33m,\u001b[0m \u001b[0mtrain\u001b[0m\u001b[1;33m[\u001b[0m\u001b[1;34m\"Target\"\u001b[0m\u001b[1;33m]\u001b[0m\u001b[1;33m)\u001b[0m\u001b[1;33m\u001b[0m\u001b[1;33m\u001b[0m\u001b[0m\n\u001b[1;32m----> 3\u001b[1;33m     \u001b[0mpreds\u001b[0m \u001b[1;33m=\u001b[0m \u001b[0mmodel\u001b[0m\u001b[1;33m.\u001b[0m\u001b[0mpredict_proba\u001b[0m\u001b[1;33m(\u001b[0m\u001b[0mtest\u001b[0m\u001b[1;33m[\u001b[0m\u001b[0mpredictors\u001b[0m\u001b[1;33m]\u001b[0m\u001b[1;33m)\u001b[0m\u001b[1;33m[\u001b[0m\u001b[1;33m:\u001b[0m\u001b[1;33m,\u001b[0m\u001b[1;36m1\u001b[0m\u001b[1;33m]\u001b[0m\u001b[1;33m\u001b[0m\u001b[1;33m\u001b[0m\u001b[0m\n\u001b[0m\u001b[0;32m      4\u001b[0m     \u001b[0mpreds\u001b[0m\u001b[1;33m[\u001b[0m\u001b[0mpreds\u001b[0m \u001b[1;33m>=\u001b[0m\u001b[1;36m.6\u001b[0m\u001b[1;33m]\u001b[0m \u001b[1;33m=\u001b[0m \u001b[1;36m1\u001b[0m\u001b[1;33m\u001b[0m\u001b[1;33m\u001b[0m\u001b[0m\n\u001b[0;32m      5\u001b[0m     \u001b[0mpreds\u001b[0m\u001b[1;33m[\u001b[0m\u001b[0mpreds\u001b[0m \u001b[1;33m<\u001b[0m\u001b[1;36m.6\u001b[0m\u001b[1;33m]\u001b[0m \u001b[1;33m=\u001b[0m \u001b[1;36m0\u001b[0m\u001b[1;33m\u001b[0m\u001b[1;33m\u001b[0m\u001b[0m\n",
      "\u001b[1;31mIndexError\u001b[0m: index 1 is out of bounds for axis 1 with size 1"
     ]
    }
   ],
   "source": [
    "predictions = backtest(sp500, model, new_predictors)"
   ]
  },
  {
   "cell_type": "code",
   "execution_count": 148,
   "metadata": {},
   "outputs": [
    {
     "data": {
      "text/plain": [
       "1    3670\n",
       "Name: Predictions, dtype: int64"
      ]
     },
     "execution_count": 148,
     "metadata": {},
     "output_type": "execute_result"
    }
   ],
   "source": [
    "predictions[\"Predictions\"].value_counts()"
   ]
  },
  {
   "cell_type": "code",
   "execution_count": null,
   "metadata": {},
   "outputs": [],
   "source": []
  }
 ],
 "metadata": {
  "kernelspec": {
   "display_name": "Python 3 (ipykernel)",
   "language": "python",
   "name": "python3"
  },
  "language_info": {
   "codemirror_mode": {
    "name": "ipython",
    "version": 3
   },
   "file_extension": ".py",
   "mimetype": "text/x-python",
   "name": "python",
   "nbconvert_exporter": "python",
   "pygments_lexer": "ipython3",
   "version": "3.9.13"
  },
  "orig_nbformat": 4
 },
 "nbformat": 4,
 "nbformat_minor": 2
}
